{
 "cells": [
  {
   "cell_type": "markdown",
   "id": "5308d484",
   "metadata": {},
   "source": [
    "# chapter 1. 정보와 변수\n",
    "## 1) print() 사용하기\n",
    "Q01"
   ]
  },
  {
   "cell_type": "code",
   "execution_count": 9,
   "id": "d634a580",
   "metadata": {},
   "outputs": [
    {
     "name": "stdout",
     "output_type": "stream",
     "text": [
      "123456\n"
     ]
    }
   ],
   "source": [
    "print(123456)"
   ]
  },
  {
   "cell_type": "markdown",
   "id": "de539ff3",
   "metadata": {},
   "source": [
    "Q02"
   ]
  },
  {
   "cell_type": "code",
   "execution_count": 10,
   "id": "8455cd9e",
   "metadata": {},
   "outputs": [
    {
     "name": "stdout",
     "output_type": "stream",
     "text": [
      "123\n",
      "456\n"
     ]
    }
   ],
   "source": [
    "print(123)\n",
    "print(456)"
   ]
  },
  {
   "cell_type": "markdown",
   "id": "0e1c7dfe",
   "metadata": {},
   "source": [
    "Q03"
   ]
  },
  {
   "cell_type": "code",
   "execution_count": 11,
   "id": "3c0c3ba1",
   "metadata": {},
   "outputs": [
    {
     "name": "stdout",
     "output_type": "stream",
     "text": [
      "123 456\n"
     ]
    }
   ],
   "source": [
    "print(123, 456)"
   ]
  },
  {
   "cell_type": "markdown",
   "id": "7826377c",
   "metadata": {},
   "source": [
    "Q04"
   ]
  },
  {
   "cell_type": "code",
   "execution_count": 12,
   "id": "1188aa45",
   "metadata": {},
   "outputs": [
    {
     "name": "stdout",
     "output_type": "stream",
     "text": [
      "파이썬을 배웁시다.\n"
     ]
    }
   ],
   "source": [
    "print(\"파이썬을 배웁시다.\")"
   ]
  },
  {
   "cell_type": "markdown",
   "id": "c1eb85e4",
   "metadata": {},
   "source": [
    "Q05"
   ]
  },
  {
   "cell_type": "code",
   "execution_count": 13,
   "id": "0aaaf28b",
   "metadata": {},
   "outputs": [
    {
     "name": "stdout",
     "output_type": "stream",
     "text": [
      "파이썬을 배웁시다.\n",
      "누구든 할 수 있습니다.\n"
     ]
    }
   ],
   "source": [
    "print(\"파이썬을 배웁시다.\")\n",
    "print(\"누구든 할 수 있습니다.\")"
   ]
  },
  {
   "cell_type": "markdown",
   "id": "89ea823c",
   "metadata": {},
   "source": [
    "Q06"
   ]
  },
  {
   "cell_type": "code",
   "execution_count": 14,
   "id": "5713cc56",
   "metadata": {},
   "outputs": [
    {
     "name": "stdout",
     "output_type": "stream",
     "text": [
      "파이썬을 배웁시다. 누구든 할 수 있습니다.\n"
     ]
    }
   ],
   "source": [
    "print(\"파이썬을 배웁시다.\", \"누구든 할 수 있습니다.\")"
   ]
  },
  {
   "cell_type": "markdown",
   "id": "05709f07",
   "metadata": {},
   "source": [
    "Q07"
   ]
  },
  {
   "cell_type": "code",
   "execution_count": 15,
   "id": "49673a0c",
   "metadata": {},
   "outputs": [
    {
     "name": "stdout",
     "output_type": "stream",
     "text": [
      "123\n",
      "올해는\n",
      "2022년입니다.\n"
     ]
    }
   ],
   "source": [
    "print(123)\n",
    "print(\"올해는\")\n",
    "print(\"2022년입니다.\")"
   ]
  },
  {
   "cell_type": "markdown",
   "id": "df984cca",
   "metadata": {},
   "source": [
    "Q08"
   ]
  },
  {
   "cell_type": "code",
   "execution_count": 17,
   "id": "f9a17294",
   "metadata": {},
   "outputs": [
    {
     "name": "stdout",
     "output_type": "stream",
     "text": [
      "123 올해는 2022년입니다.\n"
     ]
    }
   ],
   "source": [
    "print(123, \"올해는\", \"2022년입니다.\")"
   ]
  },
  {
   "cell_type": "markdown",
   "id": "35e491b4",
   "metadata": {},
   "source": [
    "## 2) 숫자 다루기\n",
    "Q01"
   ]
  },
  {
   "cell_type": "code",
   "execution_count": 19,
   "id": "8f24c15e",
   "metadata": {},
   "outputs": [
    {
     "name": "stdout",
     "output_type": "stream",
     "text": [
      "128 118 615 24.6\n"
     ]
    }
   ],
   "source": [
    "print(123 + 5, 123 - 5, 123 * 5, 123 / 5)"
   ]
  },
  {
   "cell_type": "markdown",
   "id": "d5f574a5",
   "metadata": {},
   "source": [
    "Q02"
   ]
  },
  {
   "cell_type": "code",
   "execution_count": 20,
   "id": "308d04ba",
   "metadata": {},
   "outputs": [
    {
     "name": "stdout",
     "output_type": "stream",
     "text": [
      "13\n"
     ]
    }
   ],
   "source": [
    "print(172 // 13)"
   ]
  },
  {
   "cell_type": "markdown",
   "id": "50097183",
   "metadata": {},
   "source": [
    "Q03"
   ]
  },
  {
   "cell_type": "code",
   "execution_count": 21,
   "id": "27604eb9",
   "metadata": {},
   "outputs": [
    {
     "name": "stdout",
     "output_type": "stream",
     "text": [
      "350\n"
     ]
    }
   ],
   "source": [
    "print(3854 // 11)"
   ]
  },
  {
   "cell_type": "markdown",
   "id": "48ae614a",
   "metadata": {},
   "source": [
    "Q04"
   ]
  },
  {
   "cell_type": "code",
   "execution_count": 24,
   "id": "924f53d5",
   "metadata": {},
   "outputs": [
    {
     "name": "stdout",
     "output_type": "stream",
     "text": [
      "9\n"
     ]
    }
   ],
   "source": [
    "print(178 % 13)"
   ]
  },
  {
   "cell_type": "markdown",
   "id": "f9467de6",
   "metadata": {},
   "source": [
    "Q05"
   ]
  },
  {
   "cell_type": "code",
   "execution_count": 25,
   "id": "4a0b83d5",
   "metadata": {},
   "outputs": [
    {
     "name": "stdout",
     "output_type": "stream",
     "text": [
      "4\n"
     ]
    }
   ],
   "source": [
    "print(3854 % 11)"
   ]
  },
  {
   "cell_type": "markdown",
   "id": "fa64e6a8",
   "metadata": {},
   "source": [
    "Q06"
   ]
  },
  {
   "cell_type": "code",
   "execution_count": 26,
   "id": "0e589ff3",
   "metadata": {},
   "outputs": [
    {
     "name": "stdout",
     "output_type": "stream",
     "text": [
      "True\n"
     ]
    }
   ],
   "source": [
    "print(563421 % 3 == 0)"
   ]
  },
  {
   "cell_type": "markdown",
   "id": "6c30d507",
   "metadata": {},
   "source": [
    "Q07"
   ]
  },
  {
   "cell_type": "code",
   "execution_count": 27,
   "id": "5570b1ac",
   "metadata": {},
   "outputs": [
    {
     "name": "stdout",
     "output_type": "stream",
     "text": [
      "1024\n"
     ]
    }
   ],
   "source": [
    "print(2 ** 10)"
   ]
  },
  {
   "cell_type": "markdown",
   "id": "beb9277b",
   "metadata": {},
   "source": [
    "Q08"
   ]
  },
  {
   "cell_type": "code",
   "execution_count": 28,
   "id": "8ebbceb7",
   "metadata": {},
   "outputs": [
    {
     "name": "stdout",
     "output_type": "stream",
     "text": [
      "0.004629629629629629\n"
     ]
    }
   ],
   "source": [
    "print(6 ** -3)"
   ]
  },
  {
   "cell_type": "markdown",
   "id": "32ee6201",
   "metadata": {},
   "source": [
    "Q09"
   ]
  },
  {
   "cell_type": "code",
   "execution_count": 29,
   "id": "631a5054",
   "metadata": {},
   "outputs": [
    {
     "name": "stdout",
     "output_type": "stream",
     "text": [
      "True\n"
     ]
    }
   ],
   "source": [
    "print(652 > 87)"
   ]
  },
  {
   "cell_type": "markdown",
   "id": "72f710cb",
   "metadata": {},
   "source": [
    "Q10"
   ]
  },
  {
   "cell_type": "code",
   "execution_count": 31,
   "id": "7ac11162",
   "metadata": {},
   "outputs": [
    {
     "name": "stdout",
     "output_type": "stream",
     "text": [
      "True\n"
     ]
    }
   ],
   "source": [
    "print(31 == 31.0)"
   ]
  },
  {
   "cell_type": "markdown",
   "id": "3bfd5a57",
   "metadata": {},
   "source": [
    "Q11"
   ]
  },
  {
   "cell_type": "code",
   "execution_count": 32,
   "id": "d8b7da63",
   "metadata": {},
   "outputs": [
    {
     "name": "stdout",
     "output_type": "stream",
     "text": [
      "False\n"
     ]
    }
   ],
   "source": [
    "print(24 != 24.0)"
   ]
  },
  {
   "cell_type": "markdown",
   "id": "5b3538cb",
   "metadata": {},
   "source": [
    "## 3) 문자 다루기\n",
    "Q01"
   ]
  },
  {
   "cell_type": "code",
   "execution_count": 33,
   "id": "9dc7183d",
   "metadata": {},
   "outputs": [
    {
     "name": "stdout",
     "output_type": "stream",
     "text": [
      "나는너를...\n"
     ]
    }
   ],
   "source": [
    "print(\"나는\" + \"너를...\")"
   ]
  },
  {
   "cell_type": "markdown",
   "id": "c7c7360b",
   "metadata": {},
   "source": [
    "Q02"
   ]
  },
  {
   "cell_type": "code",
   "execution_count": 34,
   "id": "a730253a",
   "metadata": {},
   "outputs": [
    {
     "name": "stdout",
     "output_type": "stream",
     "text": [
      "나는 너를...\n"
     ]
    }
   ],
   "source": [
    "print(\"나는\", \"너를...\")"
   ]
  },
  {
   "cell_type": "markdown",
   "id": "e69a4cae",
   "metadata": {},
   "source": [
    "Q03"
   ]
  },
  {
   "cell_type": "code",
   "execution_count": 35,
   "id": "a9597d26",
   "metadata": {},
   "outputs": [
    {
     "name": "stdout",
     "output_type": "stream",
     "text": [
      "**********\n"
     ]
    }
   ],
   "source": [
    "print('*' * 10)"
   ]
  },
  {
   "cell_type": "markdown",
   "id": "cddf160e",
   "metadata": {},
   "source": [
    "Q04"
   ]
  },
  {
   "cell_type": "code",
   "execution_count": 36,
   "id": "1c2211ab",
   "metadata": {},
   "outputs": [
    {
     "name": "stdout",
     "output_type": "stream",
     "text": [
      "안녕하세요?안녕하세요?안녕하세요? 반갑습니다!반갑습니다!\n"
     ]
    }
   ],
   "source": [
    "print(\"안녕하세요?\" * 3, \"반갑습니다!\" * 2)"
   ]
  },
  {
   "cell_type": "markdown",
   "id": "7226cc61",
   "metadata": {},
   "source": [
    "Q05"
   ]
  },
  {
   "cell_type": "code",
   "execution_count": 38,
   "id": "12a8f550",
   "metadata": {},
   "outputs": [
    {
     "name": "stdout",
     "output_type": "stream",
     "text": [
      "True\n"
     ]
    }
   ],
   "source": [
    "print('a' < 'b')"
   ]
  },
  {
   "cell_type": "markdown",
   "id": "0b17f9ce",
   "metadata": {},
   "source": [
    "Q06"
   ]
  },
  {
   "cell_type": "code",
   "execution_count": 39,
   "id": "5ac13094",
   "metadata": {},
   "outputs": [
    {
     "name": "stdout",
     "output_type": "stream",
     "text": [
      "True\n"
     ]
    }
   ],
   "source": [
    "print('a' > 'A')"
   ]
  },
  {
   "cell_type": "markdown",
   "id": "7b69716d",
   "metadata": {},
   "source": [
    "Q07"
   ]
  },
  {
   "cell_type": "code",
   "execution_count": 41,
   "id": "7c928e8b",
   "metadata": {},
   "outputs": [
    {
     "name": "stdout",
     "output_type": "stream",
     "text": [
      "True\n"
     ]
    }
   ],
   "source": [
    "print(\"가\" < \"나\")"
   ]
  },
  {
   "cell_type": "markdown",
   "id": "fa19df38",
   "metadata": {},
   "source": [
    "Q08"
   ]
  },
  {
   "cell_type": "code",
   "execution_count": 42,
   "id": "1904c899",
   "metadata": {},
   "outputs": [
    {
     "name": "stdout",
     "output_type": "stream",
     "text": [
      "False\n"
     ]
    }
   ],
   "source": [
    "print(\"abc\" == \"ABC\")"
   ]
  },
  {
   "cell_type": "markdown",
   "id": "e835cf88",
   "metadata": {},
   "source": [
    "Q09"
   ]
  },
  {
   "cell_type": "code",
   "execution_count": 43,
   "id": "8db5d21f",
   "metadata": {},
   "outputs": [
    {
     "name": "stdout",
     "output_type": "stream",
     "text": [
      "True\n"
     ]
    }
   ],
   "source": [
    "print(\"가나다\" != \"ABC\")"
   ]
  },
  {
   "cell_type": "markdown",
   "id": "eec5830d",
   "metadata": {},
   "source": [
    "## 4) 변수\n",
    "Q01"
   ]
  },
  {
   "cell_type": "code",
   "execution_count": 44,
   "id": "7ad2d72d",
   "metadata": {},
   "outputs": [
    {
     "name": "stdout",
     "output_type": "stream",
     "text": [
      "48\n",
      "이희성\n"
     ]
    }
   ],
   "source": [
    "v1, v2 = 48, \"이희성\"\n",
    "print(v1)\n",
    "print(v2)"
   ]
  },
  {
   "cell_type": "markdown",
   "id": "044de381",
   "metadata": {},
   "source": [
    "Q02"
   ]
  },
  {
   "cell_type": "code",
   "execution_count": 45,
   "id": "01f4c6b8",
   "metadata": {},
   "outputs": [
    {
     "name": "stdout",
     "output_type": "stream",
     "text": [
      "2048\n"
     ]
    }
   ],
   "source": [
    "a, b = 32, 64\n",
    "print(a * b)"
   ]
  },
  {
   "cell_type": "markdown",
   "id": "0e0f8609",
   "metadata": {},
   "source": [
    "Q03"
   ]
  },
  {
   "cell_type": "code",
   "execution_count": 46,
   "id": "73f8897d",
   "metadata": {},
   "outputs": [
    {
     "name": "stdout",
     "output_type": "stream",
     "text": [
      "True\n"
     ]
    }
   ],
   "source": [
    "a, b = 32, 64\n",
    "c, d = a + b, a * b\n",
    "print(c < d)"
   ]
  },
  {
   "cell_type": "markdown",
   "id": "8a8d920f",
   "metadata": {},
   "source": [
    "Q04"
   ]
  },
  {
   "cell_type": "code",
   "execution_count": 47,
   "id": "ad5d7935",
   "metadata": {},
   "outputs": [
    {
     "name": "stdout",
     "output_type": "stream",
     "text": [
      "안녕하세요?안녕하세요?안녕하세요?안녕하세요?안녕하세요?안녕하세요?안녕하세요?안녕하세요?안녕하세요?안녕하세요?안녕하세요?안녕하세요?안녕하세요?안녕하세요?\n"
     ]
    }
   ],
   "source": [
    "e, f = 14, \"안녕하세요?\"\n",
    "print(e * f)"
   ]
  },
  {
   "cell_type": "markdown",
   "id": "4681812a",
   "metadata": {},
   "source": [
    "Q05"
   ]
  },
  {
   "cell_type": "code",
   "execution_count": 49,
   "id": "dec4a013",
   "metadata": {},
   "outputs": [
    {
     "name": "stdout",
     "output_type": "stream",
     "text": [
      "2\n"
     ]
    }
   ],
   "source": [
    "g = 1\n",
    "g = g + 1\n",
    "print(g)"
   ]
  },
  {
   "cell_type": "markdown",
   "id": "87516b61",
   "metadata": {},
   "source": [
    "Q06"
   ]
  },
  {
   "cell_type": "code",
   "execution_count": 50,
   "id": "c4f1d4ba",
   "metadata": {},
   "outputs": [
    {
     "name": "stdout",
     "output_type": "stream",
     "text": [
      "4\n"
     ]
    }
   ],
   "source": [
    "h = 2\n",
    "h = h * 2\n",
    "print(h)"
   ]
  },
  {
   "cell_type": "markdown",
   "id": "4eefb8dc",
   "metadata": {},
   "source": [
    "Q07"
   ]
  },
  {
   "cell_type": "code",
   "execution_count": 51,
   "id": "bf7ecc02",
   "metadata": {},
   "outputs": [
    {
     "name": "stdout",
     "output_type": "stream",
     "text": [
      "36\n"
     ]
    }
   ],
   "source": [
    "i = 6\n",
    "i = i ** 2\n",
    "print(i)"
   ]
  },
  {
   "cell_type": "markdown",
   "id": "c20d85b4",
   "metadata": {},
   "source": [
    "Q08"
   ]
  },
  {
   "cell_type": "code",
   "execution_count": 64,
   "id": "934ec2f4",
   "metadata": {
    "scrolled": true
   },
   "outputs": [
    {
     "name": "stdout",
     "output_type": "stream",
     "text": [
      "이희성의 평균 점수는 85.3\n"
     ]
    }
   ],
   "source": [
    "kor, math, eng = 96, 72, 88\n",
    "avg = (kor + math + eng) / 3\n",
    "print(\"이희성의 평균 점수는\", \"%.1f\" % avg)"
   ]
  },
  {
   "cell_type": "markdown",
   "id": "33a38573",
   "metadata": {},
   "source": [
    "# chapter 2. 흐름제어 ① 조건\n",
    "## 1) bool 연산자\n",
    "Q01"
   ]
  },
  {
   "cell_type": "code",
   "execution_count": 1,
   "id": "625ac2d1",
   "metadata": {},
   "outputs": [
    {
     "name": "stdout",
     "output_type": "stream",
     "text": [
      "True\n"
     ]
    }
   ],
   "source": [
    "print('a' == 'A' or 10 == 10.0)"
   ]
  },
  {
   "cell_type": "markdown",
   "id": "8a43659b",
   "metadata": {},
   "source": [
    "Q02"
   ]
  },
  {
   "cell_type": "code",
   "execution_count": 2,
   "id": "2ec55f22",
   "metadata": {},
   "outputs": [
    {
     "name": "stdout",
     "output_type": "stream",
     "text": [
      "False\n"
     ]
    }
   ],
   "source": [
    "print(20 == 20.0 and \"123\" == \"일이삼\")"
   ]
  },
  {
   "cell_type": "markdown",
   "id": "5e867a7f",
   "metadata": {},
   "source": [
    "Q03"
   ]
  },
  {
   "cell_type": "code",
   "execution_count": 3,
   "id": "787d9e04",
   "metadata": {},
   "outputs": [
    {
     "name": "stdout",
     "output_type": "stream",
     "text": [
      "False\n"
     ]
    }
   ],
   "source": [
    "a, b = 2, 3\n",
    "print(a > b and a % b < 2)"
   ]
  },
  {
   "cell_type": "markdown",
   "id": "39261852",
   "metadata": {},
   "source": [
    "Q04"
   ]
  },
  {
   "cell_type": "code",
   "execution_count": 4,
   "id": "72365ea6",
   "metadata": {},
   "outputs": [
    {
     "name": "stdout",
     "output_type": "stream",
     "text": [
      "True\n"
     ]
    }
   ],
   "source": [
    "c, d = 4, 5\n",
    "print(c + d > c ** 2 or c * d % 2 == 0)"
   ]
  },
  {
   "cell_type": "markdown",
   "id": "60ea3cf8",
   "metadata": {},
   "source": [
    "Q05"
   ]
  },
  {
   "cell_type": "code",
   "execution_count": 5,
   "id": "c821f2b8",
   "metadata": {},
   "outputs": [
    {
     "name": "stdout",
     "output_type": "stream",
     "text": [
      "False\n"
     ]
    }
   ],
   "source": [
    "v1, v2, v3 = 1, 2, 3\n",
    "print(v1 % v2 % 2 == 0 and (v2 + v3) % 2 == 1)"
   ]
  },
  {
   "cell_type": "markdown",
   "id": "b30834fb",
   "metadata": {},
   "source": [
    "## 2) if\n",
    "Q01"
   ]
  },
  {
   "cell_type": "code",
   "execution_count": 6,
   "id": "0ca15524",
   "metadata": {},
   "outputs": [],
   "source": [
    "score = 86\n",
    "if not score < 90:\n",
    "    print(\"pass\")"
   ]
  },
  {
   "cell_type": "markdown",
   "id": "95ceabe0",
   "metadata": {},
   "source": [
    "Q02"
   ]
  },
  {
   "cell_type": "code",
   "execution_count": 7,
   "id": "7a89ebac",
   "metadata": {},
   "outputs": [
    {
     "name": "stdout",
     "output_type": "stream",
     "text": [
      "20대\n"
     ]
    }
   ],
   "source": [
    "age = 29\n",
    "if age < 10:\n",
    "    print(\"10세 미만\")\n",
    "elif age < 20:\n",
    "    print(\"10대\")\n",
    "elif age < 30:\n",
    "    print(\"20대\")\n",
    "elif age < 40:\n",
    "    print(\"30대\")\n",
    "elif age < 50:\n",
    "    print(\"40대\")\n",
    "else:\n",
    "    print(\"50대 이상\")"
   ]
  },
  {
   "cell_type": "markdown",
   "id": "d92d5bc7",
   "metadata": {},
   "source": [
    "Q03"
   ]
  },
  {
   "cell_type": "code",
   "execution_count": 8,
   "id": "3db9e907",
   "metadata": {},
   "outputs": [
    {
     "name": "stdout",
     "output_type": "stream",
     "text": [
      "B\n"
     ]
    }
   ],
   "source": [
    "score = 80\n",
    "if not score < 90:\n",
    "    print('A')\n",
    "elif not score < 80:\n",
    "    print('B')\n",
    "elif not score < 70:\n",
    "    print('C')\n",
    "elif not score < 60:\n",
    "    print('D')\n",
    "else:\n",
    "    print('F')"
   ]
  },
  {
   "cell_type": "markdown",
   "id": "33d85810",
   "metadata": {},
   "source": [
    "Q04"
   ]
  },
  {
   "cell_type": "code",
   "execution_count": 9,
   "id": "fb768c1e",
   "metadata": {},
   "outputs": [
    {
     "name": "stdout",
     "output_type": "stream",
     "text": [
      "fail\n"
     ]
    }
   ],
   "source": [
    "score1, score2, score3 = 48, 96, 77\n",
    "if score1 < 70 or score2 < 70 or score3 < 70 or not (score1 + score2 + score3) / 3 > 75:\n",
    "    print('fail')\n",
    "else:\n",
    "    print('pass')"
   ]
  },
  {
   "cell_type": "markdown",
   "id": "4ddeb09e",
   "metadata": {},
   "source": [
    "Q05"
   ]
  },
  {
   "cell_type": "code",
   "execution_count": 10,
   "id": "57b43689",
   "metadata": {},
   "outputs": [
    {
     "name": "stdout",
     "output_type": "stream",
     "text": [
      "11의 배수가 아닙니다.\n"
     ]
    }
   ],
   "source": [
    "num1 = 30\n",
    "if num1 % 11 == 0:\n",
    "    print(\"11의 배수입니다.\")\n",
    "else:\n",
    "    print(\"11의 배수가 아닙니다.\")"
   ]
  },
  {
   "cell_type": "markdown",
   "id": "5ec7e095",
   "metadata": {},
   "source": [
    "Q06"
   ]
  },
  {
   "cell_type": "code",
   "execution_count": 11,
   "id": "143ddec6",
   "metadata": {},
   "outputs": [
    {
     "name": "stdout",
     "output_type": "stream",
     "text": [
      "1 13\n",
      "1 13\n"
     ]
    }
   ],
   "source": [
    "num1, num2 = map(int, input().split())\n",
    "if num1 > num2:\n",
    "    print(num2, num1)\n",
    "else:\n",
    "    print(num1, num2)"
   ]
  },
  {
   "cell_type": "markdown",
   "id": "d447cccf",
   "metadata": {},
   "source": [
    "Q07"
   ]
  },
  {
   "cell_type": "code",
   "execution_count": 12,
   "id": "ff93c0d2",
   "metadata": {},
   "outputs": [
    {
     "name": "stdout",
     "output_type": "stream",
     "text": [
      "2\n",
      "정답\n"
     ]
    }
   ],
   "source": [
    "num = int(input())\n",
    "if num == 1:\n",
    "    print(\"잘 했어요!\")\n",
    "elif num == 2:\n",
    "    print(\"정답\")\n",
    "elif num == 3:\n",
    "    print(\"맞췄어요\")\n",
    "else:\n",
    "    print(\"틀렸어요\")"
   ]
  },
  {
   "cell_type": "markdown",
   "id": "f8f2fb4c",
   "metadata": {},
   "source": [
    "Q08"
   ]
  },
  {
   "cell_type": "code",
   "execution_count": 13,
   "id": "a8902d7f",
   "metadata": {},
   "outputs": [
    {
     "name": "stdout",
     "output_type": "stream",
     "text": [
      "15\n",
      "15 S 5% 할인 쿠폰 지급\n"
     ]
    }
   ],
   "source": [
    "purchase = int(input())\n",
    "grade = \"\"\n",
    "n = 0\n",
    "if not purchase < 30:\n",
    "    grade = \"VIP\"\n",
    "    n = 10\n",
    "elif not purchase < 15:\n",
    "    grade = \"S\"\n",
    "    n = 5\n",
    "elif not purchase < 5:\n",
    "    grade = \"A\"\n",
    "    n = 2\n",
    "else:\n",
    "    grade = \"Family\"\n",
    "    n = 0\n",
    "print(purchase, grade, end = \" \")\n",
    "if grade == \"Family\":\n",
    "    print(\"쿠폰 지급 없음\")\n",
    "else:\n",
    "    print(str(n) + \"% 할인 쿠폰 지급\")"
   ]
  },
  {
   "cell_type": "markdown",
   "id": "8e37c11c",
   "metadata": {},
   "source": [
    "## 1) range()\n",
    "Q01"
   ]
  },
  {
   "cell_type": "code",
   "execution_count": 1,
   "id": "c328f01e",
   "metadata": {},
   "outputs": [
    {
     "name": "stdout",
     "output_type": "stream",
     "text": [
      "[0, 1, 2, 3, 4, 5, 6, 7, 8, 9, 10, 11, 12, 13, 14, 15, 16, 17, 18, 19, 20]\n"
     ]
    }
   ],
   "source": [
    "print(list(range(0, 21)))"
   ]
  },
  {
   "cell_type": "markdown",
   "id": "45b491e2",
   "metadata": {},
   "source": [
    "Q02"
   ]
  },
  {
   "cell_type": "code",
   "execution_count": 2,
   "id": "2c6b6d75",
   "metadata": {},
   "outputs": [
    {
     "name": "stdout",
     "output_type": "stream",
     "text": [
      "[1, 2, 3, 4, 5, 6, 7, 8, 9, 10, 11, 12, 13, 14, 15, 16, 17, 18, 19, 20, 21]\n"
     ]
    }
   ],
   "source": [
    "print(list(range(1, 22)))"
   ]
  },
  {
   "cell_type": "markdown",
   "id": "570d7305",
   "metadata": {},
   "source": [
    "Q03"
   ]
  },
  {
   "cell_type": "code",
   "execution_count": 3,
   "id": "d4b0435b",
   "metadata": {},
   "outputs": [
    {
     "name": "stdout",
     "output_type": "stream",
     "text": [
      "[5, 10, 15, 20, 25, 30, 35, 40, 45, 50, 55, 60, 65, 70, 75, 80, 85, 90, 95, 100]\n"
     ]
    }
   ],
   "source": [
    "print(list(range(5, 101, 5)))"
   ]
  },
  {
   "cell_type": "markdown",
   "id": "c6151105",
   "metadata": {},
   "source": [
    "Q04"
   ]
  },
  {
   "cell_type": "code",
   "execution_count": 4,
   "id": "097e0b00",
   "metadata": {},
   "outputs": [
    {
     "name": "stdout",
     "output_type": "stream",
     "text": [
      "[3, 7, 11, 15, 19, 23, 27, 31, 35, 39, 43, 47, 51, 55, 59]\n"
     ]
    }
   ],
   "source": [
    "print(list(range(3, 61, 4)))"
   ]
  },
  {
   "cell_type": "markdown",
   "id": "f969fa27",
   "metadata": {},
   "source": [
    "Q05"
   ]
  },
  {
   "cell_type": "code",
   "execution_count": 5,
   "id": "d5d16b33",
   "metadata": {},
   "outputs": [
    {
     "name": "stdout",
     "output_type": "stream",
     "text": [
      "[200, 190, 180, 170, 160, 150, 140, 130, 120, 110, 100, 90, 80, 70, 60, 50, 40, 30, 20, 10]\n"
     ]
    }
   ],
   "source": [
    "print(list(range(200, 9, -10)))"
   ]
  },
  {
   "cell_type": "markdown",
   "id": "85e6841c",
   "metadata": {},
   "source": [
    "Q06"
   ]
  },
  {
   "cell_type": "code",
   "execution_count": 6,
   "id": "1b035913",
   "metadata": {},
   "outputs": [
    {
     "name": "stdout",
     "output_type": "stream",
     "text": [
      "[160, 150, 140, 130, 120, 110, 100, 90, 80, 70, 60, 50, 40, 30]\n"
     ]
    }
   ],
   "source": [
    "print(list(range(160, 29, -10)))"
   ]
  },
  {
   "cell_type": "markdown",
   "id": "4cb11ae4",
   "metadata": {},
   "source": [
    "Q07"
   ]
  },
  {
   "cell_type": "code",
   "execution_count": 7,
   "id": "f37ed9a7",
   "metadata": {},
   "outputs": [
    {
     "name": "stdout",
     "output_type": "stream",
     "text": [
      "[-2, -3, -4, -5, -6, -7, -8, -9, -10]\n"
     ]
    }
   ],
   "source": [
    "print(list(range(-2, -11, -1)))"
   ]
  },
  {
   "cell_type": "markdown",
   "id": "b208b0d5",
   "metadata": {},
   "source": [
    "Q08"
   ]
  },
  {
   "cell_type": "code",
   "execution_count": 8,
   "id": "ddf34857",
   "metadata": {},
   "outputs": [
    {
     "name": "stdout",
     "output_type": "stream",
     "text": [
      "[5, 2, -1, -4, -7, -10, -13]\n"
     ]
    }
   ],
   "source": [
    "print(list(range(5, -15, -3)))"
   ]
  },
  {
   "cell_type": "markdown",
   "id": "8bdd64ef",
   "metadata": {},
   "source": [
    "## 2) for loop\n",
    "Q01"
   ]
  },
  {
   "cell_type": "code",
   "execution_count": 9,
   "id": "cc06ada8",
   "metadata": {},
   "outputs": [
    {
     "name": "stdout",
     "output_type": "stream",
     "text": [
      "0\n",
      "1\n",
      "2\n",
      "3\n",
      "4\n",
      "5\n"
     ]
    }
   ],
   "source": [
    "for i in range(0, 6):\n",
    "    print(i)"
   ]
  },
  {
   "cell_type": "markdown",
   "id": "822c6440",
   "metadata": {},
   "source": [
    "Q02"
   ]
  },
  {
   "cell_type": "code",
   "execution_count": 10,
   "id": "04505d21",
   "metadata": {},
   "outputs": [
    {
     "name": "stdout",
     "output_type": "stream",
     "text": [
      "*\n",
      "**\n",
      "***\n",
      "****\n",
      "*****\n"
     ]
    }
   ],
   "source": [
    "for i in range(1, 6):\n",
    "    print('*' * i)"
   ]
  },
  {
   "cell_type": "markdown",
   "id": "c0e9981c",
   "metadata": {},
   "source": [
    "Q03"
   ]
  },
  {
   "cell_type": "code",
   "execution_count": 11,
   "id": "d417e8f6",
   "metadata": {},
   "outputs": [
    {
     "name": "stdout",
     "output_type": "stream",
     "text": [
      "    *\n",
      "   **\n",
      "  ***\n",
      " ****\n",
      "*****\n"
     ]
    }
   ],
   "source": [
    "for i in range(1,6):\n",
    "    print(' ' * (5 - i) + '*' * i)"
   ]
  },
  {
   "cell_type": "markdown",
   "id": "36f0a983",
   "metadata": {},
   "source": [
    "Q04"
   ]
  },
  {
   "cell_type": "code",
   "execution_count": 12,
   "id": "74a28286",
   "metadata": {},
   "outputs": [
    {
     "name": "stdout",
     "output_type": "stream",
     "text": [
      "*\n",
      "%%\n",
      "***\n",
      "%%%%\n",
      "*****\n"
     ]
    }
   ],
   "source": [
    "for i in range(1, 6):\n",
    "    s = '%'\n",
    "    if i % 2 == 1:\n",
    "        s = '*'\n",
    "    print(s * i)"
   ]
  },
  {
   "cell_type": "markdown",
   "id": "0c58ea28",
   "metadata": {},
   "source": [
    "Q05"
   ]
  },
  {
   "cell_type": "code",
   "execution_count": 13,
   "id": "30f6d0d4",
   "metadata": {},
   "outputs": [
    {
     "name": "stdout",
     "output_type": "stream",
     "text": [
      "5050\n"
     ]
    }
   ],
   "source": [
    "answer = 0\n",
    "for i in range(1, 101):\n",
    "    answer += i\n",
    "print(answer)"
   ]
  },
  {
   "cell_type": "markdown",
   "id": "05b75f78",
   "metadata": {},
   "source": [
    "Q06"
   ]
  },
  {
   "cell_type": "code",
   "execution_count": 14,
   "id": "ef87d5ff",
   "metadata": {},
   "outputs": [
    {
     "name": "stdout",
     "output_type": "stream",
     "text": [
      "2500\n"
     ]
    }
   ],
   "source": [
    "answer = 0\n",
    "for i in range(1, 101, 2):\n",
    "    answer += i\n",
    "print(answer)"
   ]
  },
  {
   "cell_type": "markdown",
   "id": "ceaf8aec",
   "metadata": {},
   "source": [
    "Q07"
   ]
  },
  {
   "cell_type": "code",
   "execution_count": 15,
   "id": "72e67648",
   "metadata": {},
   "outputs": [
    {
     "name": "stdout",
     "output_type": "stream",
     "text": [
      "10332\n"
     ]
    }
   ],
   "source": [
    "answer = 0\n",
    "for i in range(12, 501, 12):\n",
    "    answer += i\n",
    "print(answer)"
   ]
  },
  {
   "cell_type": "markdown",
   "id": "99f9b301",
   "metadata": {},
   "source": [
    "Q08"
   ]
  },
  {
   "cell_type": "code",
   "execution_count": 16,
   "id": "12f809b8",
   "metadata": {},
   "outputs": [
    {
     "name": "stdout",
     "output_type": "stream",
     "text": [
      "-50\n"
     ]
    }
   ],
   "source": [
    "answer = 0\n",
    "for i in range(1, 101):\n",
    "    if i % 2 == 0:\n",
    "        answer -= i\n",
    "    else:\n",
    "        answer += i\n",
    "print(answer)"
   ]
  },
  {
   "cell_type": "markdown",
   "id": "ff695dfb",
   "metadata": {},
   "source": [
    "Q09"
   ]
  },
  {
   "cell_type": "code",
   "execution_count": 17,
   "id": "008286d5",
   "metadata": {},
   "outputs": [
    {
     "name": "stdout",
     "output_type": "stream",
     "text": [
      "3\n",
      "내이름\n",
      "내이름내이름내이름\n"
     ]
    }
   ],
   "source": [
    "num = int(input())\n",
    "name = input()\n",
    "print(num * name)"
   ]
  },
  {
   "cell_type": "markdown",
   "id": "e023ad2d",
   "metadata": {},
   "source": [
    "Q10"
   ]
  },
  {
   "cell_type": "code",
   "execution_count": 18,
   "id": "ca99f8c6",
   "metadata": {},
   "outputs": [
    {
     "name": "stdout",
     "output_type": "stream",
     "text": [
      "테스트이름\n",
      "테\n",
      "스\n",
      "트\n",
      "이\n",
      "름\n"
     ]
    }
   ],
   "source": [
    "name = input()\n",
    "for i in name:\n",
    "    print(i)"
   ]
  },
  {
   "cell_type": "markdown",
   "id": "4e237165",
   "metadata": {},
   "source": [
    "Q011"
   ]
  },
  {
   "cell_type": "code",
   "execution_count": 19,
   "id": "0877ae12",
   "metadata": {},
   "outputs": [
    {
     "name": "stdout",
     "output_type": "stream",
     "text": [
      "3\n",
      "ㅇㅇ\n",
      "ㅇㅇㅇㅇㅇㅇ\n"
     ]
    }
   ],
   "source": [
    "num = int(input())\n",
    "name = input()\n",
    "if num < 10:\n",
    "    print(num * name)\n",
    "else:\n",
    "    print(\"너무 많아요\" * 4)"
   ]
  },
  {
   "cell_type": "markdown",
   "id": "988c747d",
   "metadata": {},
   "source": [
    "Q012"
   ]
  },
  {
   "cell_type": "code",
   "execution_count": 20,
   "id": "ab2d041f",
   "metadata": {},
   "outputs": [
    {
     "name": "stdout",
     "output_type": "stream",
     "text": [
      "구구단 2 단을 출력합니다.\n",
      "2 * 1 = 2\n",
      "2 * 2 = 4\n",
      "2 * 3 = 6\n",
      "2 * 4 = 8\n",
      "2 * 5 = 10\n",
      "2 * 6 = 12\n",
      "2 * 7 = 14\n",
      "2 * 8 = 16\n",
      "2 * 9 = 18\n",
      "\\=========\n",
      "구구단 3 단을 출력합니다.\n",
      "3 * 1 = 3\n",
      "3 * 2 = 6\n",
      "3 * 3 = 9\n",
      "3 * 4 = 12\n",
      "3 * 5 = 15\n",
      "3 * 6 = 18\n",
      "3 * 7 = 21\n",
      "3 * 8 = 24\n",
      "3 * 9 = 27\n",
      "\\=========\n",
      "구구단 4 단을 출력합니다.\n",
      "4 * 1 = 4\n",
      "4 * 2 = 8\n",
      "4 * 3 = 12\n",
      "4 * 4 = 16\n",
      "4 * 5 = 20\n",
      "4 * 6 = 24\n",
      "4 * 7 = 28\n",
      "4 * 8 = 32\n",
      "4 * 9 = 36\n",
      "\\=========\n",
      "구구단 5 단을 출력합니다.\n",
      "5 * 1 = 5\n",
      "5 * 2 = 10\n",
      "5 * 3 = 15\n",
      "5 * 4 = 20\n",
      "5 * 5 = 25\n",
      "5 * 6 = 30\n",
      "5 * 7 = 35\n",
      "5 * 8 = 40\n",
      "5 * 9 = 45\n",
      "\\=========\n",
      "구구단 6 단을 출력합니다.\n",
      "6 * 1 = 6\n",
      "6 * 2 = 12\n",
      "6 * 3 = 18\n",
      "6 * 4 = 24\n",
      "6 * 5 = 30\n",
      "6 * 6 = 36\n",
      "6 * 7 = 42\n",
      "6 * 8 = 48\n",
      "6 * 9 = 54\n",
      "\\=========\n",
      "구구단 7 단을 출력합니다.\n",
      "7 * 1 = 7\n",
      "7 * 2 = 14\n",
      "7 * 3 = 21\n",
      "7 * 4 = 28\n",
      "7 * 5 = 35\n",
      "7 * 6 = 42\n",
      "7 * 7 = 49\n",
      "7 * 8 = 56\n",
      "7 * 9 = 63\n",
      "\\=========\n",
      "구구단 8 단을 출력합니다.\n",
      "8 * 1 = 8\n",
      "8 * 2 = 16\n",
      "8 * 3 = 24\n",
      "8 * 4 = 32\n",
      "8 * 5 = 40\n",
      "8 * 6 = 48\n",
      "8 * 7 = 56\n",
      "8 * 8 = 64\n",
      "8 * 9 = 72\n",
      "\\=========\n",
      "구구단 9 단을 출력합니다.\n",
      "9 * 1 = 9\n",
      "9 * 2 = 18\n",
      "9 * 3 = 27\n",
      "9 * 4 = 36\n",
      "9 * 5 = 45\n",
      "9 * 6 = 54\n",
      "9 * 7 = 63\n",
      "9 * 8 = 72\n",
      "9 * 9 = 81\n",
      "\\=========\n"
     ]
    }
   ],
   "source": [
    "for i in range(2, 10):\n",
    "    print(\"구구단\", i, \"단을 출력합니다.\")\n",
    "    for j in range(1, 10):\n",
    "        print(i, \"*\", j, \"=\", i*j)\n",
    "    print(\"\\=========\")"
   ]
  },
  {
   "cell_type": "markdown",
   "id": "c8fe9af0",
   "metadata": {},
   "source": [
    "Q013"
   ]
  },
  {
   "cell_type": "code",
   "execution_count": 22,
   "id": "f2253180",
   "metadata": {},
   "outputs": [
    {
     "name": "stdout",
     "output_type": "stream",
     "text": [
      "9\n",
      "구구단 9 단을 출력합니다.\n",
      "9 * 1 = 9\n",
      "9 * 2 = 18\n",
      "9 * 3 = 27\n",
      "9 * 4 = 36\n",
      "9 * 5 = 45\n",
      "9 * 6 = 54\n",
      "9 * 7 = 63\n",
      "9 * 8 = 72\n",
      "9 * 9 = 81\n",
      "\\=========\n"
     ]
    }
   ],
   "source": [
    "n = int(input())\n",
    "for i in range(n, 10):\n",
    "    print(\"구구단\", i, \"단을 출력합니다.\")\n",
    "    for j in range(1, 10):\n",
    "        print(i, \"*\", j, \"=\", i*j)\n",
    "    print(\"\\=========\")"
   ]
  },
  {
   "cell_type": "markdown",
   "id": "9650df10",
   "metadata": {},
   "source": [
    "Q014"
   ]
  },
  {
   "cell_type": "code",
   "execution_count": 26,
   "id": "d4a3f106",
   "metadata": {},
   "outputs": [
    {
     "name": "stdout",
     "output_type": "stream",
     "text": [
      "up\n",
      "3\n",
      "1\n",
      "2\n",
      "3\n"
     ]
    }
   ],
   "source": [
    "s = input()\n",
    "n = int(input())\n",
    "if s == \"up\":\n",
    "    for i in range(1, n+1):\n",
    "        print(i)\n",
    "elif s == \"down\":\n",
    "    for i in range(20, n-1):\n",
    "        print(i)\n",
    "else:\n",
    "    print(\"틀렸어요\")"
   ]
  },
  {
   "cell_type": "markdown",
   "id": "20ab60f1",
   "metadata": {},
   "source": [
    "## 3) while loop\n",
    "Q01"
   ]
  },
  {
   "cell_type": "code",
   "execution_count": 27,
   "id": "d782fd82",
   "metadata": {},
   "outputs": [
    {
     "name": "stdout",
     "output_type": "stream",
     "text": [
      "0\n",
      "1\n",
      "2\n",
      "3\n",
      "4\n",
      "5\n"
     ]
    }
   ],
   "source": [
    "i = 0\n",
    "while i < 6:\n",
    "    print(i)\n",
    "    i += 1"
   ]
  },
  {
   "cell_type": "markdown",
   "id": "25acf0c5",
   "metadata": {},
   "source": [
    "Q02"
   ]
  },
  {
   "cell_type": "code",
   "execution_count": 28,
   "id": "f2f2b16d",
   "metadata": {},
   "outputs": [
    {
     "name": "stdout",
     "output_type": "stream",
     "text": [
      "*\n",
      "%%\n",
      "***\n",
      "%%%%\n",
      "*****\n"
     ]
    }
   ],
   "source": [
    "i = 1\n",
    "while i < 6:\n",
    "    s = \"%\"\n",
    "    if i % 2 == 1:\n",
    "        s = \"*\"\n",
    "    print(s * i)\n",
    "    i += 1"
   ]
  },
  {
   "cell_type": "markdown",
   "id": "eb61d316",
   "metadata": {},
   "source": [
    "Q03"
   ]
  },
  {
   "cell_type": "code",
   "execution_count": 29,
   "id": "43144987",
   "metadata": {},
   "outputs": [
    {
     "name": "stdout",
     "output_type": "stream",
     "text": [
      "1683\n"
     ]
    }
   ],
   "source": [
    "i = 1\n",
    "answer = 0\n",
    "while i < 101:\n",
    "    if i % 3 == 0:\n",
    "        answer += i\n",
    "    i += 1\n",
    "print(answer)"
   ]
  },
  {
   "cell_type": "markdown",
   "id": "7669626d",
   "metadata": {},
   "source": [
    "Q04"
   ]
  },
  {
   "cell_type": "code",
   "execution_count": 30,
   "id": "79cd3b6b",
   "metadata": {},
   "outputs": [
    {
     "name": "stdout",
     "output_type": "stream",
     "text": [
      "3\n",
      "test\n",
      "test\n",
      "test\n",
      "test\n"
     ]
    }
   ],
   "source": [
    "num = int(input())\n",
    "sentence = input()\n",
    "i = 0\n",
    "while i < num:\n",
    "    print(sentence)\n",
    "    i += 1"
   ]
  },
  {
   "cell_type": "markdown",
   "id": "b60935b9",
   "metadata": {},
   "source": [
    "Q05"
   ]
  },
  {
   "cell_type": "code",
   "execution_count": 39,
   "id": "fd9b0269",
   "metadata": {},
   "outputs": [
    {
     "name": "stdout",
     "output_type": "stream",
     "text": [
      "이름을 입력하세요 >> 김희성\n",
      "이름을 입력하세요 >> 라영철\n",
      "환영합니다!\n"
     ]
    }
   ],
   "source": [
    "while (\"라영철\" != input(\"이름을 입력하세요 >> \")):\n",
    "    1\n",
    "print(\"환영합니다!\")"
   ]
  },
  {
   "cell_type": "markdown",
   "id": "2607fdfb",
   "metadata": {},
   "source": [
    "Q06"
   ]
  },
  {
   "cell_type": "code",
   "execution_count": 33,
   "id": "2dd2f05c",
   "metadata": {},
   "outputs": [
    {
     "name": "stdout",
     "output_type": "stream",
     "text": [
      "숫자를 입력하세요 >> 30\n",
      "total value는 30 이다.\n",
      "숫자를 입력하세요 >> 20\n",
      "total value는 50 이다.\n",
      "숫자를 입력하세요 >> 1\n",
      "total value는 51 이다.\n"
     ]
    }
   ],
   "source": [
    "total = 0\n",
    "while not total > 50:\n",
    "    total += int(input(\"숫자를 입력하세요 >> \"))\n",
    "    print(\"total value는 %d 이다.\" % total)"
   ]
  },
  {
   "cell_type": "markdown",
   "id": "60e9c0e4",
   "metadata": {},
   "source": [
    "Q07"
   ]
  },
  {
   "cell_type": "code",
   "execution_count": 35,
   "id": "a8fc237a",
   "metadata": {},
   "outputs": [
    {
     "name": "stdout",
     "output_type": "stream",
     "text": [
      "과목명을 입력하세요 >> 국어\n",
      "96\n"
     ]
    }
   ],
   "source": [
    "kor, math, eng = 96, 72, 88\n",
    "while (True):\n",
    "    t = input(\"과목명을 입력하세요 >> \")\n",
    "    if t == \"국어\":\n",
    "        print(kor)\n",
    "        break\n",
    "    elif t == \"수학\":\n",
    "        print(math)\n",
    "        break\n",
    "    elif t == \"영어\":\n",
    "        print(eng)\n",
    "        break\n",
    "    else:\n",
    "        print(\"잘못 입력하셨습니다.\")"
   ]
  },
  {
   "cell_type": "markdown",
   "id": "20feec9c",
   "metadata": {},
   "source": [
    "Q08"
   ]
  },
  {
   "cell_type": "code",
   "execution_count": 40,
   "id": "93aa71ae",
   "metadata": {},
   "outputs": [
    {
     "name": "stdout",
     "output_type": "stream",
     "text": [
      "14\n",
      "숫자를 입력하세요 >> 1\n",
      "작아요\n",
      "숫자를 입력하세요 >> 2\n",
      "작아요\n",
      "숫자를 입력하세요 >> 3\n",
      "작아요\n",
      "숫자를 입력하세요 >> 4\n",
      "작아요\n",
      "숫자를 입력하세요 >> 14\n",
      "잘 했어요! 5 번만에 맞추셨네요\n"
     ]
    }
   ],
   "source": [
    "input_n = int(input())\n",
    "i = 0\n",
    "while True:\n",
    "    i += 1\n",
    "    think_n = int(input(\"숫자를 입력하세요 >> \"))\n",
    "    if input_n == think_n:\n",
    "        print(\"잘 했어요!\", i, \"번만에 맞추셨네요\")\n",
    "        break\n",
    "    elif think_n < input_n:\n",
    "        print(\"작아요\")\n",
    "    else:\n",
    "        print(\"커요\")"
   ]
  },
  {
   "cell_type": "markdown",
   "id": "b59d8144",
   "metadata": {},
   "source": [
    "Q09"
   ]
  },
  {
   "cell_type": "code",
   "execution_count": 41,
   "id": "edf220f8",
   "metadata": {},
   "outputs": [
    {
     "name": "stdout",
     "output_type": "stream",
     "text": [
      "아메리카노를 구입하시겠습니까? > 네\n",
      "아메리카노를 구입하시겠습니까? > 네\n",
      "아메리카노를 구입하시겠습니까? > 네\n",
      "돈이 모자랍니다. 커피를 구입할 수 없습니다.\n"
     ]
    }
   ],
   "source": [
    "money, coffee = 5000, 1300\n",
    "while not money < 1300:\n",
    "    t = input(\"아메리카노를 구입하시겠습니까? > \")\n",
    "    if (t == \"네\"):\n",
    "        money -= 1300\n",
    "    else:\n",
    "        print(\"다시 입력해 주세요.\")\n",
    "\n",
    "print(\"돈이 모자랍니다. 커피를 구입할 수 없습니다.\")    "
   ]
  }
 ],
 "metadata": {
  "kernelspec": {
   "display_name": "Python 3",
   "language": "python",
   "name": "python3"
  },
  "language_info": {
   "codemirror_mode": {
    "name": "ipython",
    "version": 3
   },
   "file_extension": ".py",
   "mimetype": "text/x-python",
   "name": "python",
   "nbconvert_exporter": "python",
   "pygments_lexer": "ipython3",
   "version": "3.8.8"
  }
 },
 "nbformat": 4,
 "nbformat_minor": 5
}
