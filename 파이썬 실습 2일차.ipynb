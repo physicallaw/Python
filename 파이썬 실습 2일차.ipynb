{
 "cells": [
  {
   "cell_type": "markdown",
   "id": "12ae5308",
   "metadata": {},
   "source": [
    "# chapter 4. 리스트(List)\n",
    "## 1) 리스트 생성하기\n",
    "Q01"
   ]
  },
  {
   "cell_type": "code",
   "execution_count": 1,
   "id": "a03b3e30",
   "metadata": {},
   "outputs": [
    {
     "name": "stdout",
     "output_type": "stream",
     "text": [
      "[1, 2, 3, 4, 5]\n"
     ]
    }
   ],
   "source": [
    "a = [1, 2, 3, 4, 5]\n",
    "print(a)"
   ]
  },
  {
   "cell_type": "markdown",
   "id": "a8c30da0",
   "metadata": {},
   "source": [
    "Q02"
   ]
  },
  {
   "cell_type": "code",
   "execution_count": 3,
   "id": "04afbdf9",
   "metadata": {},
   "outputs": [
    {
     "name": "stdout",
     "output_type": "stream",
     "text": [
      "['ab', 'cd', 'ef']\n"
     ]
    }
   ],
   "source": [
    "b = ['ab', 'cd', 'ef']\n",
    "print(b)"
   ]
  },
  {
   "cell_type": "markdown",
   "id": "a1c2dc12",
   "metadata": {},
   "source": [
    "Q03"
   ]
  },
  {
   "cell_type": "code",
   "execution_count": 7,
   "id": "d7b2bd43",
   "metadata": {},
   "outputs": [
    {
     "name": "stdout",
     "output_type": "stream",
     "text": [
      "[123, 'ab', 45, 'cde']\n"
     ]
    }
   ],
   "source": [
    "c = [123, 'ab', 45, 'cde']\n",
    "print(c)"
   ]
  },
  {
   "cell_type": "markdown",
   "id": "f1d7bc17",
   "metadata": {},
   "source": [
    "Q04"
   ]
  },
  {
   "cell_type": "code",
   "execution_count": 8,
   "id": "2da29bca",
   "metadata": {},
   "outputs": [
    {
     "name": "stdout",
     "output_type": "stream",
     "text": [
      "[1, 3, 5, 7, 9] [1, 'a', 3, 'b']\n"
     ]
    }
   ],
   "source": [
    "list_a = [1, 3, 5, 7, 9]\n",
    "list_b = [1, 'a', 3, 'b']\n",
    "print(list_a, list_b)"
   ]
  },
  {
   "cell_type": "markdown",
   "id": "91050699",
   "metadata": {},
   "source": [
    "Q05"
   ]
  },
  {
   "cell_type": "code",
   "execution_count": 9,
   "id": "bbb38162",
   "metadata": {},
   "outputs": [
    {
     "name": "stdout",
     "output_type": "stream",
     "text": [
      "[0, 1, 2, 3, 4, 5, 6, 7, 8, 9, 10, 11, 12, 13, 14, 15, 16, 17, 18, 19, 20]\n"
     ]
    }
   ],
   "source": [
    "d = list(range(0,21))\n",
    "print(d)"
   ]
  },
  {
   "cell_type": "markdown",
   "id": "ee1f223d",
   "metadata": {},
   "source": [
    "Q06"
   ]
  },
  {
   "cell_type": "code",
   "execution_count": 11,
   "id": "bb7b5262",
   "metadata": {},
   "outputs": [
    {
     "name": "stdout",
     "output_type": "stream",
     "text": [
      "[1, 4, 7, 10, 13, 16, 19]\n"
     ]
    }
   ],
   "source": [
    "list_c = list(range(1, 20, 3))\n",
    "print(list_c)"
   ]
  },
  {
   "cell_type": "markdown",
   "id": "309e4401",
   "metadata": {},
   "source": [
    "Q07"
   ]
  },
  {
   "cell_type": "code",
   "execution_count": 12,
   "id": "22e994bc",
   "metadata": {},
   "outputs": [
    {
     "name": "stdout",
     "output_type": "stream",
     "text": [
      "[[1, 2, 3], 4, 5]\n"
     ]
    }
   ],
   "source": [
    "list_d = [1, 2, 3]\n",
    "list_e = [list_d, 4, 5]\n",
    "print(list_e)"
   ]
  },
  {
   "cell_type": "markdown",
   "id": "1f11bf5f",
   "metadata": {},
   "source": [
    "Q08"
   ]
  },
  {
   "cell_type": "code",
   "execution_count": 13,
   "id": "65bbc580",
   "metadata": {},
   "outputs": [
    {
     "name": "stdout",
     "output_type": "stream",
     "text": [
      "[[1, 3, 'hello'], 'happy', 2, 4]\n"
     ]
    }
   ],
   "source": [
    "list1 = [1, 3, 'hello']\n",
    "list2 = [list1, 'happy', 2, 4]\n",
    "print(list2)"
   ]
  },
  {
   "cell_type": "markdown",
   "id": "28379686",
   "metadata": {},
   "source": [
    "## 2) 리스트 사용하기\n",
    "Q01"
   ]
  },
  {
   "cell_type": "code",
   "execution_count": 14,
   "id": "8d1e0611",
   "metadata": {},
   "outputs": [
    {
     "name": "stdout",
     "output_type": "stream",
     "text": [
      "1 5\n"
     ]
    }
   ],
   "source": [
    "list1 = [1, 2, 3, 4, 5]\n",
    "print(list1[0], list1[-1])"
   ]
  },
  {
   "cell_type": "markdown",
   "id": "206fac80",
   "metadata": {},
   "source": [
    "Q02"
   ]
  },
  {
   "cell_type": "code",
   "execution_count": 15,
   "id": "054a561b",
   "metadata": {},
   "outputs": [
    {
     "name": "stdout",
     "output_type": "stream",
     "text": [
      "23 45\n",
      "11 3\n"
     ]
    }
   ],
   "source": [
    "a = [23, 3, 16, 45, 11]\n",
    "print(a[0], a[3])\n",
    "print(a[-1], a[-4])"
   ]
  },
  {
   "cell_type": "markdown",
   "id": "fe79dc49",
   "metadata": {},
   "source": [
    "Q03"
   ]
  },
  {
   "cell_type": "code",
   "execution_count": 18,
   "id": "00d5f17e",
   "metadata": {},
   "outputs": [
    {
     "name": "stdout",
     "output_type": "stream",
     "text": [
      "[23, 3, 16]\n"
     ]
    }
   ],
   "source": [
    "a = [23, 3, 16, 45 ,11]\n",
    "print(a[:3])"
   ]
  },
  {
   "cell_type": "markdown",
   "id": "86b0af12",
   "metadata": {},
   "source": [
    "Q04"
   ]
  },
  {
   "cell_type": "code",
   "execution_count": 19,
   "id": "343fd9a1",
   "metadata": {},
   "outputs": [
    {
     "name": "stdout",
     "output_type": "stream",
     "text": [
      "[16, 45, 11]\n"
     ]
    }
   ],
   "source": [
    "a = [23, 3, 16, 45, 11]\n",
    "print(a[2:])"
   ]
  },
  {
   "cell_type": "markdown",
   "id": "34243a32",
   "metadata": {},
   "source": [
    "Q05"
   ]
  },
  {
   "cell_type": "code",
   "execution_count": 21,
   "id": "004ad303",
   "metadata": {},
   "outputs": [
    {
     "name": "stdout",
     "output_type": "stream",
     "text": [
      "[23, 3, 16] [23, 3, 16] [16, 45] [16, 45, 11]\n",
      "[16, 45] [3, 16, 45] [16, 45, 11] [23]\n"
     ]
    }
   ],
   "source": [
    "a = [23, 3, 16, 45, 11]\n",
    "print(a[:3], a[0:3], a[2:4], a[2:])\n",
    "print(a[-3:-1], a[-4:-1], a[-3:], a[-5:-4])"
   ]
  },
  {
   "cell_type": "markdown",
   "id": "e943b429",
   "metadata": {},
   "source": [
    "## 3) 리스트 수정하기\n",
    "Q01"
   ]
  },
  {
   "cell_type": "code",
   "execution_count": 22,
   "id": "e6f22d57",
   "metadata": {},
   "outputs": [
    {
     "name": "stdout",
     "output_type": "stream",
     "text": [
      "[]\n",
      "[99]\n"
     ]
    }
   ],
   "source": [
    "list = []\n",
    "print(list)\n",
    "list.append(99)\n",
    "print(list)"
   ]
  },
  {
   "cell_type": "markdown",
   "id": "7948a0cd",
   "metadata": {},
   "source": [
    "Q02"
   ]
  },
  {
   "cell_type": "code",
   "execution_count": 23,
   "id": "872b67ee",
   "metadata": {},
   "outputs": [
    {
     "name": "stdout",
     "output_type": "stream",
     "text": [
      "[23, 3, 16, 45, 11, 99, 100]\n"
     ]
    }
   ],
   "source": [
    "a = [23, 3, 16, 45, 11]\n",
    "a.append(99)\n",
    "b = [100]\n",
    "print(a + b)"
   ]
  },
  {
   "cell_type": "markdown",
   "id": "ef95a700",
   "metadata": {},
   "source": [
    "Q03"
   ]
  },
  {
   "cell_type": "code",
   "execution_count": 25,
   "id": "8f3a8160",
   "metadata": {},
   "outputs": [
    {
     "name": "stdout",
     "output_type": "stream",
     "text": [
      "[[1, 3, 5, 7], 2, 4, 8, 3]\n"
     ]
    }
   ],
   "source": [
    "list1 = [1, 3, 5, 7]\n",
    "list2 = [list1, 2, 4, 8]\n",
    "list2.append(list1[1])\n",
    "print(list2)"
   ]
  },
  {
   "cell_type": "markdown",
   "id": "89387b4a",
   "metadata": {},
   "source": [
    "Q04"
   ]
  },
  {
   "cell_type": "code",
   "execution_count": 26,
   "id": "899e58a2",
   "metadata": {},
   "outputs": [
    {
     "name": "stdout",
     "output_type": "stream",
     "text": [
      "[1, 3, 5, 7, 2, 4, 8]\n"
     ]
    }
   ],
   "source": [
    "list1 = [1, 3, 5, 7]\n",
    "list2 = [2, 4, 8]\n",
    "list1 += list2\n",
    "print(list1)"
   ]
  },
  {
   "cell_type": "markdown",
   "id": "88333df1",
   "metadata": {},
   "source": [
    "Q05"
   ]
  },
  {
   "cell_type": "code",
   "execution_count": 27,
   "id": "12e83e76",
   "metadata": {},
   "outputs": [
    {
     "name": "stdout",
     "output_type": "stream",
     "text": [
      "3\n",
      "300\n"
     ]
    }
   ],
   "source": [
    "a = [23, 3, 16, 45, 11]\n",
    "print(a[1])\n",
    "a[1] = 300\n",
    "print(a[1])"
   ]
  },
  {
   "cell_type": "markdown",
   "id": "c644ce2b",
   "metadata": {},
   "source": [
    "Q06"
   ]
  },
  {
   "cell_type": "code",
   "execution_count": 28,
   "id": "05a83ce9",
   "metadata": {},
   "outputs": [
    {
     "name": "stdout",
     "output_type": "stream",
     "text": [
      "11\n",
      "22\n"
     ]
    }
   ],
   "source": [
    "a = [23, 3, 16, 45, 11]\n",
    "print(a[-1])\n",
    "a[-1] *= 2\n",
    "print(a[-1])"
   ]
  },
  {
   "cell_type": "markdown",
   "id": "16aac8b2",
   "metadata": {},
   "source": [
    "Q07"
   ]
  },
  {
   "cell_type": "code",
   "execution_count": 29,
   "id": "c7e1a3a8",
   "metadata": {},
   "outputs": [
    {
     "name": "stdout",
     "output_type": "stream",
     "text": [
      "[23, 16, 45, 11]\n"
     ]
    }
   ],
   "source": [
    "a = [23, 3, 16, 45, 11]\n",
    "del a[1]\n",
    "print(a)"
   ]
  },
  {
   "cell_type": "markdown",
   "id": "ea235b02",
   "metadata": {},
   "source": [
    "## 4) 리스트에 사용하는  함수 (len, sum, type)\n",
    "Q01"
   ]
  },
  {
   "cell_type": "code",
   "execution_count": 2,
   "id": "a66c4927",
   "metadata": {},
   "outputs": [
    {
     "name": "stdout",
     "output_type": "stream",
     "text": [
      "7\n"
     ]
    }
   ],
   "source": [
    "list2 = list(range(1, 21, 3))\n",
    "print(len(list2))"
   ]
  },
  {
   "cell_type": "markdown",
   "id": "6231b548",
   "metadata": {},
   "source": [
    "Q02"
   ]
  },
  {
   "cell_type": "code",
   "execution_count": 3,
   "id": "af2dd201",
   "metadata": {},
   "outputs": [
    {
     "name": "stdout",
     "output_type": "stream",
     "text": [
      "3\n"
     ]
    }
   ],
   "source": [
    "list3 = ['python', 'is', 'funny']\n",
    "print(len(list3))"
   ]
  },
  {
   "cell_type": "markdown",
   "id": "ca8e4088",
   "metadata": {},
   "source": [
    "Q03"
   ]
  },
  {
   "cell_type": "code",
   "execution_count": 4,
   "id": "865f83ba",
   "metadata": {},
   "outputs": [
    {
     "name": "stdout",
     "output_type": "stream",
     "text": [
      "735\n"
     ]
    }
   ],
   "source": [
    "list1 = list(range(0, 101, 7))\n",
    "print(sum(list1))"
   ]
  },
  {
   "cell_type": "markdown",
   "id": "1538eaba",
   "metadata": {},
   "source": [
    "Q04"
   ]
  },
  {
   "cell_type": "code",
   "execution_count": 5,
   "id": "4d363720",
   "metadata": {},
   "outputs": [
    {
     "name": "stdout",
     "output_type": "stream",
     "text": [
      "<class 'list'>\n"
     ]
    }
   ],
   "source": [
    "list1 = [10, 20, 30, 40, 50]\n",
    "print(type(list1))"
   ]
  },
  {
   "cell_type": "markdown",
   "id": "79375567",
   "metadata": {},
   "source": [
    "Q05"
   ]
  },
  {
   "cell_type": "code",
   "execution_count": 6,
   "id": "6db8a443",
   "metadata": {},
   "outputs": [
    {
     "name": "stdout",
     "output_type": "stream",
     "text": [
      "33.0\n"
     ]
    }
   ],
   "source": [
    "num = [10, 21, 34, 47, 53]\n",
    "print(sum(num) / len(num))"
   ]
  },
  {
   "cell_type": "markdown",
   "id": "672a1dea",
   "metadata": {},
   "source": [
    "## 5) 리스트에 사용하는 메서드 (append, insert, remove, sort)\n",
    "Q01"
   ]
  },
  {
   "cell_type": "code",
   "execution_count": 8,
   "id": "26db4eaf",
   "metadata": {},
   "outputs": [
    {
     "name": "stdout",
     "output_type": "stream",
     "text": [
      "[10, 20, 30, 40, 50, 60]\n"
     ]
    }
   ],
   "source": [
    "list1 = [10, 20, 30, 40, 50]\n",
    "list1.append(60)\n",
    "print(list1)"
   ]
  },
  {
   "cell_type": "markdown",
   "id": "54233f85",
   "metadata": {},
   "source": [
    "Q02"
   ]
  },
  {
   "cell_type": "code",
   "execution_count": 10,
   "id": "caecc3e7",
   "metadata": {},
   "outputs": [
    {
     "name": "stdout",
     "output_type": "stream",
     "text": [
      "['python', 'is', 'funny', '~', '!']\n"
     ]
    }
   ],
   "source": [
    "list3 = ['python', 'is', 'funny']\n",
    "list3.append('~')\n",
    "list3.append('!')\n",
    "print(list3)"
   ]
  },
  {
   "cell_type": "markdown",
   "id": "88574a85",
   "metadata": {},
   "source": [
    "Q03"
   ]
  },
  {
   "cell_type": "code",
   "execution_count": 13,
   "id": "05c15a5e",
   "metadata": {},
   "outputs": [
    {
     "name": "stdout",
     "output_type": "stream",
     "text": [
      "[10, 20, 60, 30, 40, 50]\n"
     ]
    }
   ],
   "source": [
    "list1 = [10, 20, 30, 40, 50]\n",
    "list1.insert(2, 60)\n",
    "print(list1)"
   ]
  },
  {
   "cell_type": "markdown",
   "id": "6d38fedd",
   "metadata": {},
   "source": [
    "Q04"
   ]
  },
  {
   "cell_type": "code",
   "execution_count": 14,
   "id": "03c9e583",
   "metadata": {},
   "outputs": [
    {
     "name": "stdout",
     "output_type": "stream",
     "text": [
      "['python', 'is', 'funny', 'very', 'very', 'very']\n"
     ]
    }
   ],
   "source": [
    "list3 = ['python', 'is', 'funny']\n",
    "for i in range(3):\n",
    "    list3.append('very')\n",
    "print(list3)"
   ]
  },
  {
   "cell_type": "markdown",
   "id": "afcd5121",
   "metadata": {},
   "source": [
    "Q05"
   ]
  },
  {
   "cell_type": "code",
   "execution_count": 16,
   "id": "953b3790",
   "metadata": {},
   "outputs": [
    {
     "name": "stdout",
     "output_type": "stream",
     "text": [
      "[10, 20, 40, 50]\n"
     ]
    }
   ],
   "source": [
    "list1 = [10, 20, 30, 40, 50]\n",
    "list1.remove(30)\n",
    "print(list1)"
   ]
  },
  {
   "cell_type": "markdown",
   "id": "659ee48b",
   "metadata": {},
   "source": [
    "Q06"
   ]
  },
  {
   "cell_type": "code",
   "execution_count": 17,
   "id": "146dbe64",
   "metadata": {},
   "outputs": [
    {
     "name": "stdout",
     "output_type": "stream",
     "text": [
      "[1, 4, 7, 10, 13, 16, 19]\n",
      "[1, 4, 7, 10, 16, 19]\n"
     ]
    }
   ],
   "source": [
    "list2 = list(range(1, 21, 3))\n",
    "print(list2)\n",
    "del list2[-3]\n",
    "print(list2)"
   ]
  },
  {
   "cell_type": "markdown",
   "id": "de2aa787",
   "metadata": {},
   "source": [
    "Q07"
   ]
  },
  {
   "cell_type": "code",
   "execution_count": 18,
   "id": "6f88af23",
   "metadata": {},
   "outputs": [
    {
     "name": "stdout",
     "output_type": "stream",
     "text": [
      "[1, 2, 3, 4]\n"
     ]
    }
   ],
   "source": [
    "a = [1, 4, 3, 2]\n",
    "a.sort()\n",
    "print(a)"
   ]
  },
  {
   "cell_type": "markdown",
   "id": "d1b64ca9",
   "metadata": {},
   "source": [
    "Q08"
   ]
  },
  {
   "cell_type": "code",
   "execution_count": 19,
   "id": "e83b47fb",
   "metadata": {},
   "outputs": [
    {
     "name": "stdout",
     "output_type": "stream",
     "text": [
      "['d', 'c', 'b', 'a']\n"
     ]
    }
   ],
   "source": [
    "b = ['c', 'a', 'b', 'd']\n",
    "b.sort(reverse = True)\n",
    "print(b)"
   ]
  },
  {
   "cell_type": "markdown",
   "id": "815f70ed",
   "metadata": {},
   "source": [
    "Q09"
   ]
  },
  {
   "cell_type": "code",
   "execution_count": 20,
   "id": "cdac5b81",
   "metadata": {},
   "outputs": [
    {
     "name": "stdout",
     "output_type": "stream",
     "text": [
      "좋아하는 스포츠를 입력하세요야구\n",
      "['무에타이', '야구', '주짓수']\n"
     ]
    }
   ],
   "source": [
    "sports = ['주짓수', '무에타이']\n",
    "sports.append(input(\"좋아하는 스포츠를 입력하세요\"))\n",
    "sports.sort()\n",
    "print(sports)"
   ]
  },
  {
   "cell_type": "markdown",
   "id": "8a1d8a2e",
   "metadata": {},
   "source": [
    "Q10"
   ]
  },
  {
   "cell_type": "code",
   "execution_count": 22,
   "id": "eac1e182",
   "metadata": {},
   "outputs": [
    {
     "name": "stdout",
     "output_type": "stream",
     "text": [
      "싫어하는 과목을 입력하세요한국사\n",
      "['국어', '영어', '수학', '물리', '화학']\n"
     ]
    }
   ],
   "source": [
    "subjects = ['국어', '영어', '수학', '한국사', '물리', '화학']\n",
    "subjects.remove(input(\"싫어하는 과목을 입력하세요\"))\n",
    "print(subjects)"
   ]
  },
  {
   "cell_type": "markdown",
   "id": "b20f62a5",
   "metadata": {},
   "source": [
    "## 6) 리스트와 for loop\n",
    "Q01"
   ]
  },
  {
   "cell_type": "code",
   "execution_count": 24,
   "id": "819141b7",
   "metadata": {},
   "outputs": [
    {
     "name": "stdout",
     "output_type": "stream",
     "text": [
      "사자\n",
      "코끼리\n",
      "하마\n",
      "기린\n",
      "얼룩말\n"
     ]
    }
   ],
   "source": [
    "animal = ['사자', '코끼리', '하마', '기린', '얼룩말']\n",
    "for i in animal:\n",
    "    print(i)"
   ]
  },
  {
   "cell_type": "markdown",
   "id": "b16d40f1",
   "metadata": {},
   "source": [
    "Q02"
   ]
  },
  {
   "cell_type": "code",
   "execution_count": 25,
   "id": "37229e82",
   "metadata": {},
   "outputs": [
    {
     "name": "stdout",
     "output_type": "stream",
     "text": [
      "인어공주\n",
      "알라딘\n",
      "겨울왕국\n",
      "라푼젤\n",
      "라이언킹\n"
     ]
    }
   ],
   "source": [
    "dizney = ['인어공주', '알라딘', '겨울왕국', '라푼젤']\n",
    "dizney.append('라이언킹')\n",
    "for i in dizney:\n",
    "    print(i)"
   ]
  },
  {
   "cell_type": "markdown",
   "id": "29d88c8e",
   "metadata": {},
   "source": [
    "Q03"
   ]
  },
  {
   "cell_type": "code",
   "execution_count": 27,
   "id": "98dbf151",
   "metadata": {},
   "outputs": [
    {
     "name": "stdout",
     "output_type": "stream",
     "text": [
      "[7, 14, 21, 28, 35, 42, 49, 56, 63, 70, 77, 84, 91, 98]\n"
     ]
    }
   ],
   "source": [
    "multiple7 = list(i for i in range(1,100) if (i % 7 == 0))\n",
    "print(multiple7)"
   ]
  },
  {
   "cell_type": "markdown",
   "id": "51882258",
   "metadata": {},
   "source": [
    "Q04"
   ]
  },
  {
   "cell_type": "code",
   "execution_count": 28,
   "id": "0a851017",
   "metadata": {},
   "outputs": [
    {
     "name": "stdout",
     "output_type": "stream",
     "text": [
      "값을 입력하세요1\n",
      "값을 입력하세요2\n",
      "값을 입력하세요3\n",
      "값을 입력하세요45\n",
      "값을 입력하세요2\n",
      "[1, 2, 2, 3, 45]\n"
     ]
    }
   ],
   "source": [
    "my_list = list()\n",
    "for i in range(5):\n",
    "    my_list.append(int(input(\"값을 입력하세요\")))\n",
    "my_list.sort()\n",
    "print(my_list)"
   ]
  },
  {
   "cell_type": "markdown",
   "id": "fa08d878",
   "metadata": {},
   "source": [
    "Q05"
   ]
  },
  {
   "cell_type": "code",
   "execution_count": 29,
   "id": "04bee2bd",
   "metadata": {
    "scrolled": true
   },
   "outputs": [
    {
     "name": "stdout",
     "output_type": "stream",
     "text": [
      "숫자를 입력하세요1\n",
      "숫자를 입력하세요2\n",
      "숫자를 입력하세요3\n",
      "숫자를 입력하세요4\n",
      "숫자를 입력하세요5\n",
      "숫자를 입력하세요6\n",
      "숫자를 입력하세요6\n",
      "숫자를 입력하세요87\n",
      "숫자를 입력하세요8\n",
      "숫자를 입력하세요5\n",
      "[1, 3, 5, 87, 5] [2, 4, 6, 6, 8]\n"
     ]
    }
   ],
   "source": [
    "odd, even = [], []\n",
    "for i in range(10):\n",
    "    n = int(input(\"숫자를 입력하세요\"))\n",
    "    if n % 2 == 0:\n",
    "        even.append(n)\n",
    "    else:\n",
    "        odd.append(n)\n",
    "print(odd, even)"
   ]
  },
  {
   "cell_type": "markdown",
   "id": "a8e05270",
   "metadata": {},
   "source": [
    "# chapter 5. 딕셔너리(Dictionary)\n",
    "## 1) 딕셔너리 생성\n",
    "Q01."
   ]
  },
  {
   "cell_type": "code",
   "execution_count": 30,
   "id": "9f26b986",
   "metadata": {},
   "outputs": [
    {
     "name": "stdout",
     "output_type": "stream",
     "text": [
      "{'v1': 32, 'l1': [1, 2, 3], 'd1': {'a': 1, 'b': 2}}\n"
     ]
    }
   ],
   "source": [
    "dict_a = { 'v1':32, 'l1':[1,2,3], 'd1':{'a':1,'b':2}}\n",
    "print(dict_a)"
   ]
  },
  {
   "cell_type": "markdown",
   "id": "b95a501f",
   "metadata": {},
   "source": [
    "Q02"
   ]
  },
  {
   "cell_type": "code",
   "execution_count": 31,
   "id": "50e0d6d5",
   "metadata": {},
   "outputs": [
    {
     "name": "stdout",
     "output_type": "stream",
     "text": [
      "{'이름': '이희성', '나이': 38, '전공': '기계공학', '사용 언어': ['기계어', '어셈블리어', 'C++']}\n"
     ]
    }
   ],
   "source": [
    "dict_b = { '이름':'이희성', '나이':38, '전공':'기계공학', '사용 언어': ['기계어', '어셈블리어', 'C++']}\n",
    "print(dict_b)"
   ]
  },
  {
   "cell_type": "markdown",
   "id": "ab5c86c5",
   "metadata": {},
   "source": [
    "## 2) 딕셔너리 조회\n",
    "Q01"
   ]
  },
  {
   "cell_type": "code",
   "execution_count": 33,
   "id": "e1eeb2c4",
   "metadata": {},
   "outputs": [
    {
     "name": "stdout",
     "output_type": "stream",
     "text": [
      "32\n",
      "==============================\n",
      "[1, 2, 3]\n",
      "[1, 2]\n",
      "==============================\n",
      "{'a': 1, 'b': 2}\n",
      "1\n"
     ]
    }
   ],
   "source": [
    "dict_a = {'v1': 32, 'l1': [1, 2, 3], 'd1': {'a': 1, 'b': 2}}\n",
    "print(dict_a['v1'])\n",
    "print('==============================')\n",
    "print(dict_a['l1'])\n",
    "print(dict_a['l1'][:2])\n",
    "print('==============================')\n",
    "print(dict_a['d1'])\n",
    "print(dict_a['d1']['a'])"
   ]
  },
  {
   "cell_type": "markdown",
   "id": "4d088633",
   "metadata": {},
   "source": [
    "Q02"
   ]
  },
  {
   "cell_type": "code",
   "execution_count": 37,
   "id": "29fd69f1",
   "metadata": {},
   "outputs": [
    {
     "name": "stdout",
     "output_type": "stream",
     "text": [
      "dict_keys(['v1', 'l1', 'd1'])\n",
      "dict_values([32, [1, 2, 3], {'a': 1, 'b': 2}])\n",
      "dict_items([('v1', 32), ('l1', [1, 2, 3]), ('d1', {'a': 1, 'b': 2})])\n"
     ]
    }
   ],
   "source": [
    "dict_a = {'v1': 32, 'l1': [1, 2, 3], 'd1': {'a': 1, 'b': 2}}\n",
    "print(dict_a.keys())\n",
    "print(dict_a.values())\n",
    "print(dict_a.items())"
   ]
  },
  {
   "cell_type": "markdown",
   "id": "82a782f2",
   "metadata": {},
   "source": [
    "## 3) 여러 개의 값 한꺼번에 할당하기\n",
    "Q01"
   ]
  },
  {
   "cell_type": "code",
   "execution_count": 38,
   "id": "eb9e0d34",
   "metadata": {},
   "outputs": [
    {
     "name": "stdout",
     "output_type": "stream",
     "text": [
      "사자 코끼리 하마\n"
     ]
    }
   ],
   "source": [
    "animals = ['사자', '코끼리', '하마']\n",
    "a1, a2, a3 = animals\n",
    "print(a1, a2, a3)"
   ]
  },
  {
   "cell_type": "markdown",
   "id": "12da3c42",
   "metadata": {},
   "source": [
    "Q02"
   ]
  },
  {
   "cell_type": "code",
   "execution_count": 39,
   "id": "f698b907",
   "metadata": {},
   "outputs": [
    {
     "name": "stdout",
     "output_type": "stream",
     "text": [
      "인어공주 알라딘 겨울왕국 라푼젤\n"
     ]
    }
   ],
   "source": [
    "movies = ['인어공주', '알라딘', '겨울왕국', '라푼젤']\n",
    "m1, m2, m3, m4 = movies\n",
    "print(m1, m2, m3, m4)"
   ]
  },
  {
   "cell_type": "markdown",
   "id": "bf92d888",
   "metadata": {},
   "source": [
    "Q03"
   ]
  },
  {
   "cell_type": "code",
   "execution_count": 43,
   "id": "8d4ee2a8",
   "metadata": {},
   "outputs": [
    {
     "name": "stdout",
     "output_type": "stream",
     "text": [
      "[1, 2, 3] {'a': 1, 'b': 2}\n",
      "3\n",
      "2\n"
     ]
    }
   ],
   "source": [
    "dict_a = {'v1': 32, 'l1': [1, 2, 3], 'd1': {'a': 1, 'b': 2}}\n",
    "i1, i2, i3 = dict_a.values()\n",
    "print(i2, i3)\n",
    "print(i2[-1])\n",
    "print(i3['b'])"
   ]
  },
  {
   "cell_type": "markdown",
   "id": "829beabf",
   "metadata": {},
   "source": [
    "## 4) 딕셔너리 수정\n",
    "Q01"
   ]
  },
  {
   "cell_type": "code",
   "execution_count": 44,
   "id": "b63512ea",
   "metadata": {},
   "outputs": [
    {
     "name": "stdout",
     "output_type": "stream",
     "text": [
      "{'v1': 32, 'l1': [1, 2, 3], 'd1': {'a': 1, 'b': 2}, 'v2': 500}\n"
     ]
    }
   ],
   "source": [
    "dict_a = {'v1': 32, 'l1': [1, 2, 3], 'd1': {'a': 1, 'b': 2}}\n",
    "dict_a['v2'] = 500\n",
    "print(dict_a)"
   ]
  },
  {
   "cell_type": "markdown",
   "id": "bed61bc0",
   "metadata": {},
   "source": [
    "Q02"
   ]
  },
  {
   "cell_type": "code",
   "execution_count": 45,
   "id": "dd7e40f8",
   "metadata": {},
   "outputs": [
    {
     "name": "stdout",
     "output_type": "stream",
     "text": [
      "{'l1': [1, 2, 3], 'd1': {'a': 1, 'b': 2}}\n"
     ]
    }
   ],
   "source": [
    "dict_a = {'v1': 32, 'l1': [1, 2, 3], 'd1': {'a': 1, 'b': 2}}\n",
    "del dict_a['v1']\n",
    "print(dict_a)"
   ]
  },
  {
   "cell_type": "markdown",
   "id": "b97487b0",
   "metadata": {},
   "source": [
    "## 5) 딕셔너리 키와 값 존재 유무 파악하기"
   ]
  },
  {
   "cell_type": "code",
   "execution_count": 48,
   "id": "a4a95115",
   "metadata": {},
   "outputs": [
    {
     "name": "stdout",
     "output_type": "stream",
     "text": [
      "32\n",
      "0\n"
     ]
    }
   ],
   "source": [
    "dict_a = {'v1': 32, 'l1': [1, 2, 3], 'd1': {'a': 1, 'b': 2}}\n",
    "if 'v1' in dict_a:\n",
    "    print(dict_a['v1'])\n",
    "print(dict_a.get('v2', 0))"
   ]
  },
  {
   "cell_type": "markdown",
   "id": "42b0eafb",
   "metadata": {},
   "source": [
    "## 6) 딕셔너리와 for loop\n",
    "Q01"
   ]
  },
  {
   "cell_type": "code",
   "execution_count": 49,
   "id": "3d04b308",
   "metadata": {},
   "outputs": [
    {
     "name": "stdout",
     "output_type": "stream",
     "text": [
      "('v1', 32)\n",
      "('l1', [1, 2, 3])\n",
      "('d1', {'a': 1, 'b': 2})\n"
     ]
    }
   ],
   "source": [
    "dict_a = {'v1': 32, 'l1': [1, 2, 3], 'd1': {'a': 1, 'b': 2}}\n",
    "for i in dict_a.items():\n",
    "    print(i)"
   ]
  },
  {
   "cell_type": "markdown",
   "id": "400812b3",
   "metadata": {},
   "source": [
    "Q02"
   ]
  },
  {
   "cell_type": "code",
   "execution_count": 55,
   "id": "5613bda7",
   "metadata": {},
   "outputs": [
    {
     "name": "stdout",
     "output_type": "stream",
     "text": [
      "요일을 입력하세요 ex) 월일\n",
      "메로나 380\n",
      "비비빅 350\n",
      "탱크보이 450\n",
      "월드콘 900\n"
     ]
    }
   ],
   "source": [
    "icecream = {'메로나':[400, 380], '비비빅': [400, 350], '탱크보이': [500, 450], '월드콘': [1000, 900]}\n",
    "date = input(\"요일을 입력하세요 ex) 월\")\n",
    "n = 0\n",
    "if date in ['토', '일']:\n",
    "    n = 1\n",
    "for i in icecream:\n",
    "    print(i, icecream[i][n])"
   ]
  },
  {
   "cell_type": "markdown",
   "id": "8d336a04",
   "metadata": {},
   "source": [
    "Q03"
   ]
  },
  {
   "cell_type": "code",
   "execution_count": 71,
   "id": "733bca28",
   "metadata": {},
   "outputs": [
    {
     "name": "stdout",
     "output_type": "stream",
     "text": [
      "{'i': 4, 'was': 4, 'born': 4, 'to': 4, 'love': 2, 'you': 4, 'with': 2, 'every': 4, 'single': 4, 'beat': 2, 'of': 5, 'my': 3, 'heart': 2, 'yes': 2, 'take': 2, 'care': 2, 'ha': 1, 'day': 2, 'alright': 1, 'hey': 2, 'life': 1}\n"
     ]
    }
   ],
   "source": [
    "lyrics = '''\n",
    "I was born to love you\n",
    "With every single beat of my heart\n",
    "Yes, I was born to take care of you, ha\n",
    "Every single day\n",
    "Alright, hey hey\n",
    "I was born to love you\n",
    "With every single beat of my heart\n",
    "Yes, I was born to take care of you\n",
    "Every single day of my life\n",
    "'''\n",
    "lyrics = lyrics.replace('\\n', ' ')\n",
    "lyrics = lyrics.replace(',', '')\n",
    "lyrics = lyrics.lower()\n",
    "lyrics = lyrics.split()\n",
    "word_dict = {}\n",
    "for word in lyrics:\n",
    "    word_dict[word] = word_dict.get(word, 0) + 1\n",
    "\n",
    "print(word_dict)"
   ]
  },
  {
   "cell_type": "markdown",
   "id": "5b69b721",
   "metadata": {},
   "source": [
    "# chaper 6. 함수 만들기\n",
    "## 1) 함수 만들기 - input\n",
    "Q01"
   ]
  },
  {
   "cell_type": "code",
   "execution_count": 74,
   "id": "2e0e288f",
   "metadata": {},
   "outputs": [
    {
     "name": "stdout",
     "output_type": "stream",
     "text": [
      "Hello Ann, welcome to Python World!\n"
     ]
    }
   ],
   "source": [
    "def hello_world(name):\n",
    "    print('Hello ' + name + ', welcome to Python World!')\n",
    "\n",
    "hello_world('Ann')"
   ]
  },
  {
   "cell_type": "markdown",
   "id": "dc82ac5f",
   "metadata": {},
   "source": [
    "Q02"
   ]
  },
  {
   "cell_type": "code",
   "execution_count": 76,
   "id": "ca700b2d",
   "metadata": {},
   "outputs": [
    {
     "name": "stdout",
     "output_type": "stream",
     "text": [
      "Hey! Hey! Hey! Hey! Hey! \n"
     ]
    }
   ],
   "source": [
    "def say_hey(count):\n",
    "    print('Hey! ' * count)\n",
    "\n",
    "say_hey(5)"
   ]
  },
  {
   "cell_type": "markdown",
   "id": "04367901",
   "metadata": {},
   "source": [
    "Q03"
   ]
  },
  {
   "cell_type": "code",
   "execution_count": 77,
   "id": "d659bc9f",
   "metadata": {},
   "outputs": [
    {
     "name": "stdout",
     "output_type": "stream",
     "text": [
      "Hello Kim.\n",
      "HELLO Kim!!!\n"
     ]
    }
   ],
   "source": [
    "def hello(name, loud = 1):\n",
    "    if loud == 1:\n",
    "        print(\"HELLO \" + name + \"!!!\")\n",
    "    else:\n",
    "        print(\"Hello \" + name + \".\")\n",
    "\n",
    "hello(name = 'Kim', loud = 0)\n",
    "hello(name = 'Kim')"
   ]
  },
  {
   "cell_type": "markdown",
   "id": "187bd93a",
   "metadata": {},
   "source": [
    "Q04"
   ]
  },
  {
   "cell_type": "code",
   "execution_count": 79,
   "id": "583ce856",
   "metadata": {},
   "outputs": [
    {
     "name": "stdout",
     "output_type": "stream",
     "text": [
      "덧셈 결과는 9\n"
     ]
    }
   ],
   "source": [
    "\n",
    "def add(a, b):\n",
    "    print(\"덧셈 결과는\", a + b)\n",
    "\n",
    "add(7, 2)"
   ]
  },
  {
   "cell_type": "markdown",
   "id": "c81cc08b",
   "metadata": {},
   "source": [
    "Q05"
   ]
  },
  {
   "cell_type": "code",
   "execution_count": 80,
   "id": "be2f60f3",
   "metadata": {},
   "outputs": [
    {
     "name": "stdout",
     "output_type": "stream",
     "text": [
      "(2, 4, 6, 8, 10)\n"
     ]
    }
   ],
   "source": [
    "def numbers(*nums):\n",
    "    print(nums)\n",
    "\n",
    "numbers(2, 4, 6, 8, 10)"
   ]
  },
  {
   "cell_type": "markdown",
   "id": "a7591f2e",
   "metadata": {},
   "source": [
    "Q06"
   ]
  },
  {
   "cell_type": "code",
   "execution_count": 81,
   "id": "50660727",
   "metadata": {},
   "outputs": [
    {
     "name": "stdout",
     "output_type": "stream",
     "text": [
      "6.0\n"
     ]
    }
   ],
   "source": [
    "def average(*nums):\n",
    "    print(sum(nums) / len(nums))\n",
    "\n",
    "average(2, 4, 6, 8, 10)"
   ]
  },
  {
   "cell_type": "markdown",
   "id": "ce3aa19f",
   "metadata": {},
   "source": [
    "## 2) 함수 만들기 - output\n",
    "Q01"
   ]
  },
  {
   "cell_type": "code",
   "execution_count": 84,
   "id": "59c42831",
   "metadata": {},
   "outputs": [
    {
     "name": "stdout",
     "output_type": "stream",
     "text": [
      "22\n"
     ]
    }
   ],
   "source": [
    "def calculate1(a, b, o):\n",
    "    if b == 0 and o == '/':\n",
    "        print('다시 입력하세요')\n",
    "    print(eval(str(a) + o + str(b)))\n",
    "\n",
    "calculate1(11, 2, '*')"
   ]
  },
  {
   "cell_type": "markdown",
   "id": "ab16639f",
   "metadata": {},
   "source": [
    "Q02"
   ]
  },
  {
   "cell_type": "code",
   "execution_count": 85,
   "id": "d9bfc83d",
   "metadata": {},
   "outputs": [
    {
     "name": "stdout",
     "output_type": "stream",
     "text": [
      "22\n",
      "None\n"
     ]
    }
   ],
   "source": [
    "def calculate1(a, b, o):\n",
    "    if b == 0 and o == '/':\n",
    "        print('다시 입력하세요')\n",
    "    print(eval(str(a) + o + str(b)))\n",
    "\n",
    "c = calculate1(11, 2, '*')\n",
    "print(c)"
   ]
  },
  {
   "cell_type": "markdown",
   "id": "485f1150",
   "metadata": {},
   "source": [
    "Q03"
   ]
  },
  {
   "cell_type": "code",
   "execution_count": 86,
   "id": "e30b0e9a",
   "metadata": {},
   "outputs": [
    {
     "name": "stdout",
     "output_type": "stream",
     "text": [
      "22\n"
     ]
    }
   ],
   "source": [
    "def calculate1(a, b, o):\n",
    "    if b == 0 and o == '/':\n",
    "        print('다시 입력하세요')\n",
    "    return eval(str(a) + o + str(b))\n",
    "\n",
    "c = calculate1(11, 2, '*')\n",
    "print(c)"
   ]
  },
  {
   "cell_type": "markdown",
   "id": "78cddc66",
   "metadata": {},
   "source": [
    "Q04"
   ]
  },
  {
   "cell_type": "code",
   "execution_count": 88,
   "id": "fd8cc548",
   "metadata": {},
   "outputs": [
    {
     "name": "stdout",
     "output_type": "stream",
     "text": [
      "5 1\n"
     ]
    }
   ],
   "source": [
    "def calculate2(r1, r2):\n",
    "    return divmod(r1, r2)\n",
    "\n",
    "r1, r2 = calculate2(11, 2)\n",
    "print(r1, r2)"
   ]
  },
  {
   "cell_type": "markdown",
   "id": "425f037d",
   "metadata": {},
   "source": [
    "Q05"
   ]
  },
  {
   "cell_type": "code",
   "execution_count": 90,
   "id": "c50b2df6",
   "metadata": {},
   "outputs": [
    {
     "data": {
      "text/plain": [
       "[2, 6, 8]"
      ]
     },
     "execution_count": 90,
     "metadata": {},
     "output_type": "execute_result"
    }
   ],
   "source": [
    "def even(arr):\n",
    "    result = []\n",
    "    for i in arr:\n",
    "        if i % 2 == 0:\n",
    "            result.append(i)\n",
    "    return result\n",
    "\n",
    "even([2, 3, 6, 8, 11])"
   ]
  },
  {
   "cell_type": "markdown",
   "id": "dc773cdf",
   "metadata": {},
   "source": [
    "## 3) 함수 만들기 - 예외처리\n",
    "Q01"
   ]
  },
  {
   "cell_type": "code",
   "execution_count": 99,
   "id": "7117e97e",
   "metadata": {},
   "outputs": [
    {
     "data": {
      "text/plain": [
       "1.6666666666666667"
      ]
     },
     "execution_count": 99,
     "metadata": {},
     "output_type": "execute_result"
    }
   ],
   "source": [
    "def divide(num1, num2):\n",
    "    return num1 / num2\n",
    "\n",
    "divide(5, 3)"
   ]
  },
  {
   "cell_type": "markdown",
   "id": "508f2dc8",
   "metadata": {},
   "source": [
    "Q02"
   ]
  },
  {
   "cell_type": "code",
   "execution_count": 95,
   "id": "801b57f8",
   "metadata": {},
   "outputs": [
    {
     "name": "stdout",
     "output_type": "stream",
     "text": [
      "1.6666666666666667\n",
      "0으로 나눌 수 업습니다.\n"
     ]
    }
   ],
   "source": [
    "def divide(num1, num2):\n",
    "    try:\n",
    "        return num1 / num2\n",
    "    except:\n",
    "        return \"0으로 나눌 수 없습니다.\"\n",
    "        \n",
    "\n",
    "print(divide(5, 3))\n",
    "print(divide(5, 0))"
   ]
  },
  {
   "cell_type": "markdown",
   "id": "abc20276",
   "metadata": {},
   "source": [
    "Q03"
   ]
  },
  {
   "cell_type": "code",
   "execution_count": 100,
   "id": "1e298b10",
   "metadata": {},
   "outputs": [
    {
     "name": "stdout",
     "output_type": "stream",
     "text": [
      "1.6666666666666667\n",
      "0으로 나눌 수 없습니다.\n",
      "입력값이 모두 숫자여야 합니다.\n"
     ]
    }
   ],
   "source": [
    "def divide(num1, num2):\n",
    "    try:\n",
    "        return num1 / num2\n",
    "    except ZeroDivisionError:\n",
    "        return \"0으로 나눌 수 없습니다.\"\n",
    "    except TypeError:\n",
    "        return \"입력값이 모두 숫자여야 합니다.\"\n",
    "        \n",
    "\n",
    "print(divide(5, 3))\n",
    "print(divide(5, 0))\n",
    "print(divide(10, 'a'))"
   ]
  },
  {
   "cell_type": "markdown",
   "id": "d2e8c06a",
   "metadata": {},
   "source": [
    "Q04"
   ]
  },
  {
   "cell_type": "code",
   "execution_count": 104,
   "id": "c1130c2a",
   "metadata": {},
   "outputs": [
    {
     "name": "stdout",
     "output_type": "stream",
     "text": [
      "[2, 6, 8]\n",
      "리스트 형태로 입력하세요\n"
     ]
    }
   ],
   "source": [
    "def even(arr):\n",
    "    try:\n",
    "        result = []\n",
    "        for i in arr:\n",
    "            if i % 2 == 0:\n",
    "                result.append(i)\n",
    "        return result\n",
    "    except TypeError:\n",
    "        return \"리스트 형태로 입력하세요\"\n",
    "\n",
    "print(even([2, 3, 6, 8, 11]))\n",
    "print(even(1))"
   ]
  }
 ],
 "metadata": {
  "kernelspec": {
   "display_name": "Python 3",
   "language": "python",
   "name": "python3"
  },
  "language_info": {
   "codemirror_mode": {
    "name": "ipython",
    "version": 3
   },
   "file_extension": ".py",
   "mimetype": "text/x-python",
   "name": "python",
   "nbconvert_exporter": "python",
   "pygments_lexer": "ipython3",
   "version": "3.8.8"
  }
 },
 "nbformat": 4,
 "nbformat_minor": 5
}
